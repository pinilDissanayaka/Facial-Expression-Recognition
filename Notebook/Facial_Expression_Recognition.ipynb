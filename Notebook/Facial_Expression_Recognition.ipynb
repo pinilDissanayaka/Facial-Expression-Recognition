{
  "nbformat": 4,
  "nbformat_minor": 0,
  "metadata": {
    "colab": {
      "provenance": [],
      "gpuType": "T4",
      "authorship_tag": "ABX9TyPsOWtZQ3fdrc7BVxmLMdHU",
      "include_colab_link": true
    },
    "kernelspec": {
      "name": "python3",
      "display_name": "Python 3"
    },
    "language_info": {
      "name": "python"
    },
    "accelerator": "GPU"
  },
  "cells": [
    {
      "cell_type": "markdown",
      "metadata": {
        "id": "view-in-github",
        "colab_type": "text"
      },
      "source": [
        "<a href=\"https://colab.research.google.com/github/pinilDissanayaka/Facial-Expression-Recognition/blob/main/Notebook/Facial_Expression_Recognition.ipynb\" target=\"_parent\"><img src=\"https://colab.research.google.com/assets/colab-badge.svg\" alt=\"Open In Colab\"/></a>"
      ]
    },
    {
      "cell_type": "code",
      "execution_count": 6,
      "metadata": {
        "id": "gjbliDmbSFRc"
      },
      "outputs": [],
      "source": [
        "import numpy as np\n",
        "import pandas as pd\n",
        "import matplotlib.pyplot as plt\n",
        "import seaborn as sns\n",
        "import os\n",
        "import cv2 as cv\n",
        "from glob import glob\n",
        "\n",
        "from tensorflow.keras.preprocessing.image import ImageDataGenerator\n",
        "from tensorflow.keras.layers import Dense, Input, Dropout,Flatten, Conv2D\n",
        "from tensorflow.keras.layers import BatchNormalization, Activation, MaxPooling2D\n",
        "from tensorflow.keras.models import Model, Sequential\n",
        "from tensorflow.keras.optimizers import Adam\n",
        "from tensorflow.keras.callbacks import ModelCheckpoint, ReduceLROnPlateau, EarlyStopping\n",
        "from tensorflow.keras.utils import plot_model\n",
        "\n",
        "import warnings\n",
        "warnings.filterwarnings(action = 'ignore')"
      ]
    },
    {
      "cell_type": "code",
      "source": [
        "import tensorflow\n",
        "print(\"Tensorflow version:\", tensorflow.__version__)"
      ],
      "metadata": {
        "colab": {
          "base_uri": "https://localhost:8080/"
        },
        "id": "bd-nCMC8Thg9",
        "outputId": "b14ac221-3a37-4753-8909-16c9795df2d3"
      },
      "execution_count": 2,
      "outputs": [
        {
          "output_type": "stream",
          "name": "stdout",
          "text": [
            "Tensorflow version: 2.14.0\n"
          ]
        }
      ]
    },
    {
      "cell_type": "code",
      "source": [
        "! mkdir ~/.kaggle\n",
        "! cp kaggle.json ~/.kaggle/\n",
        "! chmod 600 ~/.kaggle/kaggle.json"
      ],
      "metadata": {
        "id": "f8AEMz6NTvvz"
      },
      "execution_count": 3,
      "outputs": []
    },
    {
      "cell_type": "code",
      "source": [
        "! kaggle datasets download mahmoudima/mma-facial-expression"
      ],
      "metadata": {
        "colab": {
          "base_uri": "https://localhost:8080/"
        },
        "id": "0oO1hoZ6ZAlv",
        "outputId": "2c78d901-7827-4a8a-c6aa-731cd51cb88b"
      },
      "execution_count": 4,
      "outputs": [
        {
          "output_type": "stream",
          "name": "stdout",
          "text": [
            "Downloading mma-facial-expression.zip to /content\n",
            " 97% 160M/166M [00:01<00:00, 190MB/s]\n",
            "100% 166M/166M [00:01<00:00, 165MB/s]\n"
          ]
        }
      ]
    },
    {
      "cell_type": "code",
      "source": [
        "! unzip /content/mma-facial-expression.zip"
      ],
      "metadata": {
        "id": "oKodiN0gZe39"
      },
      "execution_count": null,
      "outputs": []
    },
    {
      "cell_type": "code",
      "source": [
        "TRAIN_DIR = '/content/MMAFEDB/train'\n",
        "TEST_DIR = '/content/MMAFEDB/test'\n",
        "VALID_DIR = '/content/MMAFEDB/valid'"
      ],
      "metadata": {
        "id": "TyYIAeqBZjVW"
      },
      "execution_count": 7,
      "outputs": []
    },
    {
      "cell_type": "code",
      "source": [
        "train_labels = (os.listdir(TRAIN_DIR))\n",
        "test_labels = (os.listdir(TEST_DIR))\n",
        "valid_labels = (os.listdir(VALID_DIR))"
      ],
      "metadata": {
        "id": "S1iSyCGKaEbg"
      },
      "execution_count": 9,
      "outputs": []
    },
    {
      "cell_type": "code",
      "source": [
        "print(f\"Train labels = {train_labels}\")\n",
        "print(f\"Test labels = {test_labels}\")\n",
        "print(f\"VAlidation labels = {valid_labels}\")"
      ],
      "metadata": {
        "colab": {
          "base_uri": "https://localhost:8080/"
        },
        "id": "BY_rK6ZdaN72",
        "outputId": "30793236-1d3a-4dae-981a-f00bf150970b"
      },
      "execution_count": 10,
      "outputs": [
        {
          "output_type": "stream",
          "name": "stdout",
          "text": [
            "Train labels = ['fear', 'surprise', 'sad', 'happy', 'neutral', 'disgust', 'angry']\n",
            "Test labels = ['fear', 'surprise', 'sad', 'happy', 'neutral', 'disgust', 'angry']\n",
            "VAlidation labels = ['fear', 'surprise', 'sad', 'happy', 'neutral', 'disgust', 'angry']\n"
          ]
        }
      ]
    },
    {
      "cell_type": "code",
      "source": [
        "train_labels == test_labels == valid_labels"
      ],
      "metadata": {
        "colab": {
          "base_uri": "https://localhost:8080/"
        },
        "id": "ureCTeq2amM2",
        "outputId": "6b958caa-7b4d-408d-a024-7810edfc4732"
      },
      "execution_count": 15,
      "outputs": [
        {
          "output_type": "execute_result",
          "data": {
            "text/plain": [
              "True"
            ]
          },
          "metadata": {},
          "execution_count": 15
        }
      ]
    },
    {
      "cell_type": "code",
      "source": [
        "train_img_paths = glob(TRAIN_DIR + '/*/*')\n",
        "test_img_paths = glob(TEST_DIR + '/*/*')\n",
        "valid_img_paths = glob(VALID_DIR + '/*/*')"
      ],
      "metadata": {
        "id": "yGVgZ4gpclV2"
      },
      "execution_count": 23,
      "outputs": []
    },
    {
      "cell_type": "code",
      "source": [
        "train_imgs = len(train_img_paths)\n",
        "test_imgs = len(test_img_paths)\n",
        "valid_imgs = len(valid_img_paths)"
      ],
      "metadata": {
        "id": "985KZfBGbbgT"
      },
      "execution_count": 24,
      "outputs": []
    },
    {
      "cell_type": "code",
      "source": [
        "print(f\"For train purpose we have {train_imgs} images\")\n",
        "print(f\"For test purpose we have {test_imgs} images\")\n",
        "print(f\"For valid purpose we have {valid_imgs} images\")"
      ],
      "metadata": {
        "colab": {
          "base_uri": "https://localhost:8080/"
        },
        "id": "PKcV1-dHbgCm",
        "outputId": "a75e064e-6cb5-47e7-a43b-99c8b3caa812"
      },
      "execution_count": 25,
      "outputs": [
        {
          "output_type": "stream",
          "name": "stdout",
          "text": [
            "For train purpose we have 92968 images\n",
            "For test purpose we have 17356 images\n",
            "For valid purpose we have 17356 images\n"
          ]
        }
      ]
    },
    {
      "cell_type": "code",
      "source": [
        "train_img_shapes = set()\n",
        "test_img_shapes = set()\n",
        "valid_img_shapes = set()\n",
        "\n",
        "for i in train_img_paths:\n",
        "  img = cv.imread(i)\n",
        "  img_shape = img.shape\n",
        "  train_img_shapes.add(img_shape)\n",
        "\n",
        "\n",
        "for i in test_img_paths:\n",
        "  img = cv.imread(i)\n",
        "  img_shape = img.shape\n",
        "  test_img_shapes.add(img_shape)\n",
        "\n",
        "\n",
        "for i in valid_img_paths:\n",
        "  img = cv.imread(i)\n",
        "  img_shape = img.shape\n",
        "  valid_img_shapes.add(img_shape)"
      ],
      "metadata": {
        "id": "R3Wm5BtrdbVh"
      },
      "execution_count": 35,
      "outputs": []
    },
    {
      "cell_type": "code",
      "source": [
        "print(f\"Train image size : {train_img_shapes}\")\n",
        "print(f\"Test image size : {test_img_shapes}\")\n",
        "print(f\"Validation image size : {valid_img_shapes}\")"
      ],
      "metadata": {
        "colab": {
          "base_uri": "https://localhost:8080/"
        },
        "id": "n2P4TYp5eFTH",
        "outputId": "cc43cd0d-a953-4cf6-a9e1-b6759efaa22f"
      },
      "execution_count": 36,
      "outputs": [
        {
          "output_type": "stream",
          "name": "stdout",
          "text": [
            "Train image size : {(48, 48, 3)}\n",
            "Test image size : {(48, 48, 3)}\n",
            "Validation image size : {(48, 48, 3)}\n"
          ]
        }
      ]
    },
    {
      "cell_type": "code",
      "source": [
        "IMG_SIZE = [48, 48, 3]"
      ],
      "metadata": {
        "id": "uL4u4lkLeJaF"
      },
      "execution_count": 37,
      "outputs": []
    },
    {
      "cell_type": "code",
      "source": [],
      "metadata": {
        "id": "D9blY323egDQ"
      },
      "execution_count": null,
      "outputs": []
    }
  ]
}